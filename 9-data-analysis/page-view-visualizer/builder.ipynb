{
 "cells": [
  {
   "cell_type": "markdown",
   "metadata": {},
   "source": [
    "Use the data to complete the following tasks:\n",
    "\n",
    "* Use Pandas to import the data from \"fcc-forum-pageviews.csv\". Set the index to the date column.\n",
    "* Clean the data by filtering out days when the page views were in the top 2.5% of the dataset or bottom 2.5% of the dataset.\n",
    "* Create a **draw_line_plot** function that uses Matplotlib to draw a line chart similar to \"examples/Figure_1.png\". The title should be Daily freeCodeCamp Forum Page Views 5/2016-12/2019. The label on the x axis should be Date and the label on the y axis should be Page Views.\n",
    "* Create a **draw_bar_plot** function that draws a bar chart similar to \"examples/Figure_2.png\". It should show average daily page views for each month grouped by year. The legend should show month labels and have a title of Months. On the chart, the label on the x axis should be Years and the label on the y axis should be Average Page Views.\n",
    "* Create a **draw_box_plot** function that uses Seaborn to draw two adjacent box plots similar to \"examples/Figure_3.png\". These box plots should show how the values are distributed within a given year or month and how it compares over time. The title of the first chart should be Year-wise Box Plot (Trend) and the title of the second chart should be Month-wise Box Plot (Seasonality). Make sure the month labels on bottom start at Jan and the x and y axis are labeled correctly. The boilerplate includes commands to prepare the data.\n",
    "\n",
    "For each chart, make sure to use a copy of the data frame."
   ]
  },
  {
   "cell_type": "code",
   "execution_count": null,
   "metadata": {},
   "outputs": [],
   "source": [
    "import matplotlib.pyplot as plt\n",
    "import pandas as pd\n",
    "import seaborn as sns\n",
    "from pandas.plotting import register_matplotlib_converters\n",
    "register_matplotlib_converters()"
   ]
  },
  {
   "cell_type": "code",
   "execution_count": null,
   "metadata": {},
   "outputs": [],
   "source": [
    "df = pd.read_csv(\"fcc-forum-pageviews.csv\")\n",
    "df_filt = df[(df['value'] > df['value'].quantile(0.025)) & (df['value'] < df['value'].quantile(0.975))]"
   ]
  },
  {
   "cell_type": "code",
   "execution_count": null,
   "metadata": {},
   "outputs": [],
   "source": [
    "from IPython.display import Image\n",
    "from IPython.display import display\n",
    "\n",
    "display(Image(filename='examples/Figure_3.png'))\n"
   ]
  },
  {
   "cell_type": "code",
   "execution_count": null,
   "metadata": {},
   "outputs": [],
   "source": [
    "\n",
    "def draw_bar_plot(data):\n",
    "\n",
    "    df_bar = data.copy(deep=True)\n",
    "\n",
    "    df_bar['date'] = pd.to_datetime(df_bar['date'])\n",
    "    df_bar['year'] = df_bar['date'].dt.year\n",
    "    df_bar['month'] = df_bar['date'].dt.month\n",
    "\n",
    "    df_bar = df_bar.groupby(['year', 'month'])['value'].mean().reset_index(name='mean')\n",
    "\n",
    "    df_pivot = df_bar.pivot(index='year', columns='month', values='mean')\n",
    "   \n",
    "    df_pivot.plot(kind='bar', figsize=(14, 7), width=0.6)\n",
    "\n",
    "    plt.xlabel('Years', fontsize=14)\n",
    "    plt.ylabel('Average Page Views', fontsize=14)\n",
    "    \n",
    "    months = [\"January\", \"February\", \"Marpltch\", \"April\", \"May\", \"June\", \"July\", \"August\", \"September\", \"October\", \"November\", \"December\"]\n",
    "    plt.legend(title='Months', labels=months, title_fontsize=14, fontsize=12)\n",
    "    \n",
    "    plt.show()\n",
    "\n",
    "draw_bar_plot(df_filt)\n"
   ]
  },
  {
   "cell_type": "code",
   "execution_count": null,
   "metadata": {},
   "outputs": [],
   "source": [
    "def draw_box_plot(data):\n",
    "    # Prepare data for box plots (this part is done!)\n",
    "    df_box = data.copy(deep=True)\n",
    "\n",
    "    df_box['date'] = pd.to_datetime(df_box['date'])\n",
    "    df_box['year'] = df_box['date'].dt.year\n",
    "    df_box['month'] = df_box['date'].dt.strftime('%b')\n",
    "\n",
    "    fig, axes = plt.subplots(1, 2, figsize=(20, 6))  \n",
    "\n",
    "    month_order = ['Jan', 'Feb', 'Mar', 'Apr', 'May', 'Jun', 'Jul', 'Aug', 'Sep', 'Oct', 'Nov', 'Dec']\n",
    "    df_box['month'] = pd.Categorical(df_box['month'], categories=month_order, ordered=True)\n",
    "\n",
    "    sns.boxplot(ax=axes[0], data=df_box, x='year', y='value', hue = 'year', palette='bright', dodge=False, legend=False)\n",
    "    axes[0].set_title('Year-wise Box Plot (Trend)')\n",
    "    axes[0].set_xlabel('Year')\n",
    "    axes[0].set_ylabel('Page Views')\n",
    "\n",
    "    sns.boxplot(ax=axes[1], data=df_box, x='month', y='value', hue = 'month', palette='husl', dodge=False, legend=False)\n",
    "    axes[1].set_title('Month-wise Box Plot (Seasonality)')\n",
    "    axes[1].set_xlabel('Month')\n",
    "    axes[1].set_ylabel('Page Views')\n",
    "\n",
    "    # fig.savefig('box_plot.png')\n",
    "    # return fig\n",
    "\n",
    "    plt.show()\n",
    "\n",
    "\n",
    "\n",
    "draw_box_plot(df_filt)\n",
    "\n",
    "\n",
    "\n"
   ]
  },
  {
   "cell_type": "code",
   "execution_count": null,
   "metadata": {},
   "outputs": [],
   "source": [
    "def draw_line_plot(data):\n",
    "    plt.figure(figsize=(25, 7))\n",
    "    plt.plot(data['date'], data['value'], color='red')\n",
    "    plt.title('Daily freeCodeCamp Forum Page Views 5/2016-12/2019')\n",
    "    plt.xlabel('Date', fontsize = 14)\n",
    "    plt.xticks(ticks=[], labels=[])\n",
    "    plt.ylabel('Page Views', fontsize = 14)\n",
    "    plt.show()\n",
    "\n",
    "draw_line_plot(df_filt)"
   ]
  }
 ],
 "metadata": {
  "kernelspec": {
   "display_name": "data_science",
   "language": "python",
   "name": "python3"
  },
  "language_info": {
   "codemirror_mode": {
    "name": "ipython",
    "version": 3
   },
   "file_extension": ".py",
   "mimetype": "text/x-python",
   "name": "python",
   "nbconvert_exporter": "python",
   "pygments_lexer": "ipython3",
   "version": "3.12.3"
  }
 },
 "nbformat": 4,
 "nbformat_minor": 2
}
